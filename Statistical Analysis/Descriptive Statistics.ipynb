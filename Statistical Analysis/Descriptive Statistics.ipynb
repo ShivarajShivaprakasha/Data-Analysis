{
 "cells": [
  {
   "cell_type": "code",
   "execution_count": 11,
   "id": "e6ddca2c",
   "metadata": {},
   "outputs": [],
   "source": [
    "import pandas as pd\n",
    "x=[4,5,6,10,12,12,12,15,15,17,18,19,20,24,27,32,61,66]"
   ]
  },
  {
   "cell_type": "code",
   "execution_count": 12,
   "id": "01423049",
   "metadata": {},
   "outputs": [
    {
     "data": {
      "text/html": [
       "<div>\n",
       "<style scoped>\n",
       "    .dataframe tbody tr th:only-of-type {\n",
       "        vertical-align: middle;\n",
       "    }\n",
       "\n",
       "    .dataframe tbody tr th {\n",
       "        vertical-align: top;\n",
       "    }\n",
       "\n",
       "    .dataframe thead th {\n",
       "        text-align: right;\n",
       "    }\n",
       "</style>\n",
       "<table border=\"1\" class=\"dataframe\">\n",
       "  <thead>\n",
       "    <tr style=\"text-align: right;\">\n",
       "      <th></th>\n",
       "      <th>a</th>\n",
       "    </tr>\n",
       "  </thead>\n",
       "  <tbody>\n",
       "    <tr>\n",
       "      <th>0</th>\n",
       "      <td>4</td>\n",
       "    </tr>\n",
       "    <tr>\n",
       "      <th>1</th>\n",
       "      <td>5</td>\n",
       "    </tr>\n",
       "    <tr>\n",
       "      <th>2</th>\n",
       "      <td>6</td>\n",
       "    </tr>\n",
       "    <tr>\n",
       "      <th>3</th>\n",
       "      <td>10</td>\n",
       "    </tr>\n",
       "    <tr>\n",
       "      <th>4</th>\n",
       "      <td>12</td>\n",
       "    </tr>\n",
       "  </tbody>\n",
       "</table>\n",
       "</div>"
      ],
      "text/plain": [
       "    a\n",
       "0   4\n",
       "1   5\n",
       "2   6\n",
       "3  10\n",
       "4  12"
      ]
     },
     "execution_count": 12,
     "metadata": {},
     "output_type": "execute_result"
    }
   ],
   "source": [
    "df=pd.DataFrame(x,columns=['a'])                     # creating a data frame\n",
    "df.head()"
   ]
  },
  {
   "cell_type": "code",
   "execution_count": 13,
   "id": "a66ae9dc",
   "metadata": {},
   "outputs": [
    {
     "data": {
      "text/plain": [
       "<AxesSubplot:>"
      ]
     },
     "execution_count": 13,
     "metadata": {},
     "output_type": "execute_result"
    },
    {
     "data": {
      "image/png": "[encoded data removed]",
      "text/plain": [
       "<Figure size 432x288 with 1 Axes>"
      ]
     },
     "metadata": {
      "needs_background": "light"
     },
     "output_type": "display_data"
    }
   ],
   "source": [
    "df.a.plot()                   # Plotting the data frame"
   ]
  },
  {
   "cell_type": "code",
   "execution_count": 14,
   "id": "ca2c4f7a",
   "metadata": {},
   "outputs": [
    {
     "data": {
      "text/plain": [
       "<AxesSubplot:>"
      ]
     },
     "execution_count": 14,
     "metadata": {},
     "output_type": "execute_result"
    },
    {
     "data": {
      "image/png": "[encoded data removed]",
      "text/plain": [
       "<Figure size 432x288 with 1 Axes>"
      ]
     },
     "metadata": {
      "needs_background": "light"
     },
     "output_type": "display_data"
    }
   ],
   "source": [
    "df.a.hist()                        # Histogram the data frame"
   ]
  },
  {
   "cell_type": "code",
   "execution_count": 17,
   "id": "75c18957",
   "metadata": {},
   "outputs": [
    {
     "data": {
      "text/plain": [
       "count    18.000000\n",
       "mean     20.833333\n",
       "std      17.195246\n",
       "min       4.000000\n",
       "25%      12.000000\n",
       "50%      16.000000\n",
       "75%      23.000000\n",
       "max      66.000000\n",
       "Name: a, dtype: float64"
      ]
     },
     "execution_count": 17,
     "metadata": {},
     "output_type": "execute_result"
    }
   ],
   "source": [
    "df.a.describe()                        # Details the data frame"
   ]
  },
  {
   "cell_type": "code",
   "execution_count": 18,
   "id": "eb07c6a5",
   "metadata": {},
   "outputs": [
    {
     "data": {
      "text/plain": [
       "<AxesSubplot:ylabel='Density'>"
      ]
     },
     "execution_count": 18,
     "metadata": {},
     "output_type": "execute_result"
    },
    {
     "data": {
      "image/png": "[encoded data removed]",
      "text/plain": [
       "<Figure size 432x288 with 1 Axes>"
      ]
     },
     "metadata": {
      "needs_background": "light"
     },
     "output_type": "display_data"
    }
   ],
   "source": [
    "df.a.plot.density()                         # Density the data frame"
   ]
  },
  {
   "cell_type": "code",
   "execution_count": 19,
   "id": "533b9e25",
   "metadata": {},
   "outputs": [
    {
     "name": "stdout",
     "output_type": "stream",
     "text": [
      "4\n",
      "66\n",
      "20.833333333333332\n",
      "16.0\n",
      "0    12\n",
      "dtype: int64\n",
      "295.67647058823536\n",
      "17.195245580922517\n"
     ]
    }
   ],
   "source": [
    "print(df.a.min())\n",
    "print(df.a.max())\n",
    "print(df.a.mean())\n",
    "print(df.a.median())\n",
    "print(df.a.mode())\n",
    "print(df.a.var())\n",
    "print(df.a.std())"
   ]
  },
  {
   "cell_type": "code",
   "execution_count": 20,
   "id": "87b97ab0",
   "metadata": {},
   "outputs": [
    {
     "name": "stdout",
     "output_type": "stream",
     "text": [
      "1.8584066929661869\n",
      "3.1067834162416768\n"
     ]
    }
   ],
   "source": [
    "print(df.a.skew())\n",
    "print(df.a.kurt())"
   ]
  },
  {
   "cell_type": "code",
   "execution_count": null,
   "id": "5f054e6a",
   "metadata": {},
   "outputs": [],
   "source": []
  }
 ],
 "metadata": {
  "kernelspec": {
   "display_name": "Python 3",
   "language": "python",
   "name": "python3"
  },
  "language_info": {
   "codemirror_mode": {
    "name": "ipython",
    "version": 3
   },
   "file_extension": ".py",
   "mimetype": "text/x-python",
   "name": "python",
   "nbconvert_exporter": "python",
   "pygments_lexer": "ipython3",
   "version": "3.8.8"
  }
 },
 "nbformat": 4,
 "nbformat_minor": 5
}
